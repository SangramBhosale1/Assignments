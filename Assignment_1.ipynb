{
 "cells": [
  {
   "cell_type": "markdown",
   "id": "60835cb1",
   "metadata": {},
   "source": [
    "'''1. In the below elements which of them are values or an expression? eg:- values can be integer or string and expressions will be mathematical operators.\n",
    "=> * - expression\n",
    "'hello' - value\n",
    "-87.8 - value\n",
    "- expression\n",
    "/ - expression\n",
    "+ -= expression\n",
    "6 - value\n",
    "\n",
    "2. What is the difference between string and variable?\n",
    "=> String is set of characters denoted in quotes.\n",
    "Variable is data type in which we can store different types of values, eg numbers, words, boolean, etc.\n",
    "\n",
    "3. Describe three different data types.\n",
    "=> Three different data types are integer, string and boolean.\n",
    "\n",
    "4. What is an expression made up of? What do all expressions do?\n",
    "=> Expression is made up of values, variables and operators.  Expressions give us an output or return a value.\n",
    "\n",
    "5. This assignment statements, like spam = 10. What is the difference between an expression and a statement?\n",
    "=> Expression is combination of values, variables and operators which return a value.\n",
    "Statement is an instruction which Python interpreter can execute.\n",
    "\n",
    "6. After running the following code, what does the variable bacon contain?\n",
    "bacon = 22\n",
    "bacon + 1\n",
    "=> 23\n",
    "\n",
    "7. What should the values of the following two terms be?\n",
    "'spam' + 'spamspam'\n",
    "'spam' * 3\n",
    "=> 'spamspamspam'\n",
    "\n",
    "8. Why is eggs a valid variable name while 100 is invalid?\n",
    "=> A variable name should always start with \"alphabet\" or \"_\" hence eggs is a valid variable and 100 is invalid.\n",
    "\n",
    "9. What three functions can be used to get the integer, floating-point number, or string version of a value?\n",
    "=>  Functions are int() for integer, float() for floating point number and str() for string version of a value.\n",
    "\n",
    "10. Why does this expression cause an error? How can you fix it?\n",
    "'I have eaten ' + 99 + ' burritos.'\n",
    "=> 'I have eaten ' + '99' + ' burritos.'\n"
   ]
  },
  {
   "cell_type": "code",
   "execution_count": null,
   "id": "7f64dba8",
   "metadata": {},
   "outputs": [],
   "source": []
  }
 ],
 "metadata": {
  "kernelspec": {
   "display_name": "Python 3",
   "language": "python",
   "name": "python3"
  },
  "language_info": {
   "codemirror_mode": {
    "name": "ipython",
    "version": 3
   },
   "file_extension": ".py",
   "mimetype": "text/x-python",
   "name": "python",
   "nbconvert_exporter": "python",
   "pygments_lexer": "ipython3",
   "version": "3.8.8"
  }
 },
 "nbformat": 4,
 "nbformat_minor": 5
}
