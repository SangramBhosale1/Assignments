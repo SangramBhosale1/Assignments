{
 "cells": [
  {
   "cell_type": "code",
   "execution_count": null,
   "id": "1519145f",
   "metadata": {},
   "outputs": [],
   "source": [
    "1.  Why are functions advantageous to have in your programs?\n",
    "A.  Functions are advantageous because we do not need to write a new code if a function is available,\n",
    "    this makes our code shorter and more readible.\n",
    "\n",
    "2.  When does the code in a function run: when it's specified or when it's called?\n",
    "A.  The code in a function runs when it is called.\n",
    "\n",
    "3.  What statement creates a function?\n",
    "A.  The statement 'def' creates a function.\n",
    "\n",
    "4.  What is the difference between a function and a function call?\n",
    "A.  A 'function' is a statement under which we create a specific code for a desired output.\n",
    "    A 'function call' will recall and run the code inside the function statement.\n",
    "\n",
    "5.  How many global scopes are there in a Python program? How many local scopes?\n",
    "A.  There is one global scope, ie the variable which holds the entire program.\n",
    "    Local scope is created when we run the program inside a function.\n",
    "\n",
    "6.  What happens to variables in a local scope when the function call returns?\n",
    "A.  When the function call returns, variables get new values in a local scope.\n",
    "\n",
    "7.  What is the concept of a return value? Is it possible to have a return value in an expression?\n",
    "A.  'Return' statement ends the execution of a function code and returns a value called as 'return value.'\n",
    "    Yes, expression can have a return value.\n",
    "\n",
    "8.  If a function does not have a return statement, what is the return value of a call to that function?\n",
    "A.  If a function does not have a return statement, the return value will be None.\n",
    "\n",
    "9.  How do you make a function variable refer to the global variable?\n",
    "A.  A global statement will make function variable refer to global variable.\n",
    "\n",
    "10.  What is the data type of None?\n",
    "A.   Data type of 'None' is 'NoneType.''\n",
    "\n",
    "11.  What does the sentence import areallyourpetsnamederic do?\n",
    "A.  The sentence import areallyourpetsnamederic will import a module named 'areallyourpetsnamederic.'\n",
    "\n",
    "12. If you had a bacon() feature in a spam module, what would you call it after importing spam?\n",
    "A.  The statement spam.bacon() will call the imported function.\n",
    "\n",
    "13.  What can you do to save a programme from crashing if it encounters an error?\n",
    "A.  A 'try' statement is used to save a programme from crashing if it encounters an error.\n",
    "\n",
    "14.  What is the purpose of the try clause? What is the purpose of the except clause?\n",
    "A.  'Try' will test block of code for errors.\n",
    "    'Except' will run after an error under 'try' clause is found."
   ]
  },
  {
   "cell_type": "code",
   "execution_count": null,
   "id": "0c0459b0",
   "metadata": {},
   "outputs": [],
   "source": []
  }
 ],
 "metadata": {
  "kernelspec": {
   "display_name": "Python 3",
   "language": "python",
   "name": "python3"
  },
  "language_info": {
   "codemirror_mode": {
    "name": "ipython",
    "version": 3
   },
   "file_extension": ".py",
   "mimetype": "text/x-python",
   "name": "python",
   "nbconvert_exporter": "python",
   "pygments_lexer": "ipython3",
   "version": "3.8.8"
  }
 },
 "nbformat": 4,
 "nbformat_minor": 5
}
