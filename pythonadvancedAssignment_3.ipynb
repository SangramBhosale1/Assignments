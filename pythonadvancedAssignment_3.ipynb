{
 "cells": [
  {
   "cell_type": "code",
   "execution_count": null,
   "id": "82811491",
   "metadata": {},
   "outputs": [],
   "source": [
    "1.  What is the concept of an abstract superclass?\n",
    "A.  An abstract class is a common superclass for several subclasses. It is a class which contains one or more abstract methods.\n",
    "\n",
    "2.  What happens when a class statement's top level contains a basic assignment statement?\n",
    "A.  A basic assignment statement will store a value in the variable.\n",
    "    Eg: a=\"Apple\"\n",
    "        print(a)\n",
    "\n",
    "3.  Why does a class need to manually call a superclass's __init__ method?\n",
    "A.  The __init__ is known as constructor.  It is called to initialize the attributes of a class.\n",
    "\n",
    "4.  How can you augment, instead of completely replacing, an inherited method?\n",
    "A.  We can augment by calling to the original version directly with augmented arguments.\n",
    "    Eg: class TM():\n",
    "            def Raise(self, percent, bonus=0.15):\n",
    "                Person.Raise(self, percent + bonus) ##Original version called.\n",
    "                \n",
    "5.  How is the local scope of a class different from that of a function?\n",
    "A.  The variable defined in a class can be accessed by all(public variable).\n",
    "    The variable defined in a function can only be accessed by that function and not outside the function."
   ]
  }
 ],
 "metadata": {
  "kernelspec": {
   "display_name": "Python 3",
   "language": "python",
   "name": "python3"
  },
  "language_info": {
   "codemirror_mode": {
    "name": "ipython",
    "version": 3
   },
   "file_extension": ".py",
   "mimetype": "text/x-python",
   "name": "python",
   "nbconvert_exporter": "python",
   "pygments_lexer": "ipython3",
   "version": "3.8.8"
  }
 },
 "nbformat": 4,
 "nbformat_minor": 5
}
