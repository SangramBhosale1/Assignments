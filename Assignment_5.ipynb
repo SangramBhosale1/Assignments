{
 "cells": [
  {
   "cell_type": "code",
   "execution_count": null,
   "id": "19a8e178",
   "metadata": {},
   "outputs": [],
   "source": [
    "1. What does an empty dictionary's code look like?\n",
    "A. ##Code for empty dictionary.\n",
    "    emptydict={}\n",
    "    print(emptydict)\n",
    "    \n",
    "    ##Output\n",
    "    {}\n",
    "    \n",
    "2. What is the value of a dictionary value with the key 'foo' and the value 42?\n",
    "A. dict={'foo': 42}\n",
    "\n",
    "3. What is the most significant distinction between a dictionary and a list?\n",
    "A.  The items in dictionary are in an unordered fashion and require keys and key value.  The items in list are in ordered fashion.\n",
    "\n",
    "4. What happens if you try to access spam['foo'] if spam is {'bar': 100}?\n",
    "A. We get KeyError.\n",
    "    \n",
    "    ##The code\n",
    "    spam={'bar': 100}\n",
    "    spam['foo']\n",
    "    \n",
    "    ##Output\n",
    "    ---------------------------------------------------------------------------\n",
    "    KeyError                                  Traceback (most recent call last)\n",
    "    <ipython-input-6-9b5a94d1de8d> in <module>\n",
    "    ----> 1 spam['foo']\n",
    "    \n",
    "    KeyError: 'foo'\n",
    "\n",
    "5. If a dictionary is stored in spam, what is the difference between the expressions 'cat' in spam and 'cat' in spam.keys()?\n",
    "A. The expressions 'cat' in spam and 'cat' in spam.keys() have no difference as both will search for key named 'cat' in spam.\n",
    "    \n",
    "6. If a dictionary is stored in spam, what is the difference between the expressions 'cat' in spam and 'cat' in spam.values()?\n",
    "A. The expression 'cat' in spam will check for a key named 'cat' in spam.\n",
    "   The expression 'cat' in spam.values() will check for a value named 'cat' in spam.\n",
    "    \n",
    "7. What is a shortcut for the following code?\n",
    "    if 'color' not in spam:\n",
    "    spam['color'] = 'black'\n",
    "A.  ##setdefault will set the value 'black' to the key 'color'.\n",
    "    spam.setdefault('color', 'black')\n",
    "    \n",
    "8. How do you \"pretty print\" dictionary values using which module and function?\n",
    "A. To \"pretty print\" dictionary values we import module \"pprint\" and call the function \"pprint()\".\n",
    "   pprint.pprint() "
   ]
  }
 ],
 "metadata": {
  "kernelspec": {
   "display_name": "Python 3",
   "language": "python",
   "name": "python3"
  },
  "language_info": {
   "codemirror_mode": {
    "name": "ipython",
    "version": 3
   },
   "file_extension": ".py",
   "mimetype": "text/x-python",
   "name": "python",
   "nbconvert_exporter": "python",
   "pygments_lexer": "ipython3",
   "version": "3.8.8"
  }
 },
 "nbformat": 4,
 "nbformat_minor": 5
}
