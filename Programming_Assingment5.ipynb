{
 "cells": [
  {
   "cell_type": "code",
   "execution_count": 1,
   "id": "7487e904",
   "metadata": {},
   "outputs": [],
   "source": [
    "## 1.  Write a Python Program to Find LCM?\n",
    "\n",
    "def cal_lcm(x, y):\n",
    "    \n",
    "## choose the greater number\n",
    "    if x > y:\n",
    "        greater = x\n",
    "    else:\n",
    "        greater = y\n",
    "        \n",
    "    while(True):\n",
    "        if((greater % x == 0) and (greater % y == 0)):\n",
    "            lcm = greater\n",
    "            break\n",
    "        greater += 1\n",
    "    return lcm"
   ]
  },
  {
   "cell_type": "code",
   "execution_count": 2,
   "id": "cf4c9df1",
   "metadata": {},
   "outputs": [
    {
     "data": {
      "text/plain": [
       "12"
      ]
     },
     "execution_count": 2,
     "metadata": {},
     "output_type": "execute_result"
    }
   ],
   "source": [
    "cal_lcm(4,6)"
   ]
  },
  {
   "cell_type": "code",
   "execution_count": 1,
   "id": "b3de1fca",
   "metadata": {},
   "outputs": [],
   "source": [
    "##2.\tWrite a Python Program to Find HCF?\n",
    "\n",
    "def cal_hcf(x, y):\n",
    "\n",
    "## choose the smaller number\n",
    "    if x > y:\n",
    "        smaller = y\n",
    "    else:\n",
    "        smaller = x\n",
    "        \n",
    "    for i in range(1, smaller+1):\n",
    "        if((x % i == 0) and (y % i == 0)):\n",
    "            hcf = i \n",
    "    return hcf"
   ]
  },
  {
   "cell_type": "code",
   "execution_count": 2,
   "id": "f7fc1166",
   "metadata": {},
   "outputs": [
    {
     "data": {
      "text/plain": [
       "2"
      ]
     },
     "execution_count": 2,
     "metadata": {},
     "output_type": "execute_result"
    }
   ],
   "source": [
    "cal_hcf(24,14)"
   ]
  },
  {
   "cell_type": "code",
   "execution_count": 4,
   "id": "6e0ce491",
   "metadata": {},
   "outputs": [
    {
     "name": "stdout",
     "output_type": "stream",
     "text": [
      "Enter a numeric value: 12\n",
      "Binary form of decimal 12 is  0b1100\n",
      "Octal form of decimal 12 is  0o14\n",
      "Hexadecimal form of decimal 12 is  0xc\n"
     ]
    }
   ],
   "source": [
    "##3.\tWrite a Python Program to Convert Decimal to Binary, Octal and Hexadecimal?\n",
    "\n",
    "##user input stored in dec variable.\n",
    "dec=int(input(\"Enter a numeric value: \"))\n",
    "\n",
    "#use of built-in functions.\n",
    "print(\"Binary form of decimal\", dec, \"is \", bin(dec))\n",
    "\n",
    "print(\"Octal form of decimal\", dec, \"is \", oct(dec))\n",
    "\n",
    "print(\"Hexadecimal form of decimal\", dec, \"is \", hex(dec))"
   ]
  },
  {
   "cell_type": "code",
   "execution_count": 5,
   "id": "6d8106e2",
   "metadata": {},
   "outputs": [
    {
     "name": "stdout",
     "output_type": "stream",
     "text": [
      "Enter a character (capital/small): A\n",
      "The ASCII value of A is  65\n"
     ]
    }
   ],
   "source": [
    "## 4.\tWrite a Python Program To Find ASCII value of a character?\n",
    "\n",
    "asc=str(input(\"Enter a character (capital/small): \"))\n",
    "\n",
    "##Use of bulit-in function to get ASCII value of a character.\n",
    "print(\"The ASCII value of\", asc, \"is \", ord(asc))"
   ]
  },
  {
   "cell_type": "code",
   "execution_count": 1,
   "id": "580782af",
   "metadata": {},
   "outputs": [
    {
     "name": "stdout",
     "output_type": "stream",
     "text": [
      "Select operation to perform:\n",
      "1. Addition\n",
      "2. Subtraction\n",
      "3. Multiplication\n",
      "4. Division\n",
      "Enter choice(1/2/3/4): 1\n",
      "Enter first number: 2\n",
      "Enter second number: 5\n",
      "2.0 + 5.0 = 7.0\n",
      "Do you want to continue? (yes/no): yes\n",
      "Enter choice(1/2/3/4): 2\n",
      "Enter first number: 14\n",
      "Enter second number: 6\n",
      "14.0 - 6.0 = 8.0\n",
      "Do you want to continue? (yes/no): tes\n",
      "Enter choice(1/2/3/4): yes\n",
      "Invalid Input\n",
      "Enter choice(1/2/3/4): 3\n",
      "Enter first number: 4\n",
      "Enter second number: 16\n",
      "4.0 * 16.0 = 64.0\n",
      "Do you want to continue? (yes/no): yes\n",
      "Enter choice(1/2/3/4): 4\n",
      "Enter first number: 50\n",
      "Enter second number: 6\n",
      "50.0 / 6.0 = 8.333333333333334\n",
      "Do you want to continue? (yes/no): yes\n",
      "Enter choice(1/2/3/4): 4\n",
      "Enter first number: 12\n",
      "Enter second number: 0\n",
      "12.0 / 0.0 = Not divisible by 0\n",
      "Do you want to continue? (yes/no): no\n"
     ]
    }
   ],
   "source": [
    "## 5.\tWrite a Python Program to Make a Simple Calculator with 4 basic mathematical operations?\n",
    "\n",
    "#function to add two numbers\n",
    "def add(x, y):\n",
    "    return x + y\n",
    "\n",
    "#function to subtract two numbers\n",
    "def subtract(x, y):\n",
    "    return x - y\n",
    "\n",
    "#function to multiply two numbers\n",
    "def multiply(x, y):\n",
    "    return x * y\n",
    "\n",
    "#function to divide two numbers\n",
    "def divide(x, y):\n",
    "    if n2==0:\n",
    "        return(\"Not divisible by 0\")\n",
    "    else:\n",
    "        return x / y\n",
    "\n",
    "print(\"Select operation to perform:\")\n",
    "print(\"1. Addition\")\n",
    "print(\"2. Subtraction\")\n",
    "print(\"3. Multiplication\")\n",
    "print(\"4. Division\")\n",
    "\n",
    "while True:\n",
    "    # take input from the user\n",
    "    choice = input(\"Enter choice(1/2/3/4): \")\n",
    "\n",
    "    # check if choice is one of the four options\n",
    "    if choice in ('1', '2', '3', '4'):\n",
    "        n1 = float(input(\"Enter first number: \"))\n",
    "        n2 = float(input(\"Enter second number: \"))\n",
    "\n",
    "        if choice == '1':\n",
    "            print(n1, \"+\", n2, \"=\", add(n1, n2))\n",
    "\n",
    "        elif choice == '2':\n",
    "            print(n1, \"-\", n2, \"=\", subtract(n1, n2))\n",
    "\n",
    "        elif choice == '3':\n",
    "            print(n1, \"*\", n2, \"=\", multiply(n1, n2))\n",
    "\n",
    "        elif choice == '4':\n",
    "            print(n1, \"/\", n2, \"=\", divide(n1, n2))\n",
    "        \n",
    "        #to check if user wants to continue\n",
    "        more_cal = input(\"Do you want to continue? (yes/no): \")\n",
    "        if more_cal == \"no\":\n",
    "            break\n",
    "            \n",
    "    else:\n",
    "        print(\"Invalid Input\")"
   ]
  },
  {
   "cell_type": "code",
   "execution_count": null,
   "id": "9ad1f9f4",
   "metadata": {},
   "outputs": [],
   "source": []
  }
 ],
 "metadata": {
  "kernelspec": {
   "display_name": "Python 3",
   "language": "python",
   "name": "python3"
  },
  "language_info": {
   "codemirror_mode": {
    "name": "ipython",
    "version": 3
   },
   "file_extension": ".py",
   "mimetype": "text/x-python",
   "name": "python",
   "nbconvert_exporter": "python",
   "pygments_lexer": "ipython3",
   "version": "3.8.8"
  }
 },
 "nbformat": 4,
 "nbformat_minor": 5
}
