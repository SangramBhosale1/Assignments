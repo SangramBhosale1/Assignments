{
 "cells": [
  {
   "cell_type": "code",
   "execution_count": null,
   "id": "25478558",
   "metadata": {},
   "outputs": [],
   "source": [
    "Q1. What is the relationship between classes and modules?\n",
    "A. Class is a blueprint of a given object.  Module is imported to access the code/logic inside it.\n",
    "\n",
    "Q2. How do you make instances and classes?\n",
    "A. We make instances of a class by calling class using class name and pass the arguments using __init__ method.\n",
    "\n",
    "Q3. Where and how should be class attributes created?\n",
    "A.  Class attributes are the variables created directly in class and shared by all objects of the class.\n",
    "    Example of class attribute:\n",
    "    class Emp:\n",
    "        def __init__(self, name, age, salary): \n",
    "            self.name=name\n",
    "            self.age=age\n",
    "            self.salary=salary\n",
    "            \n",
    "Q4. Where and how are instance attributes created?\n",
    "A.  Instance attributes are attributes attached to an instance of a class/defined directly in the class.\n",
    "    Example of instance attribute using class Emp from Q3 above:\n",
    "    empdet=Emp('Ashish', 25, 35000)\n",
    "    empdet.name\n",
    "    Ashish\n",
    "    empdet.age\n",
    "    25\n",
    "    empdet.salary\n",
    "    35000\n",
    "    \n",
    "Q5. What does the term \"self\" in a Python class mean?\n",
    "A.  The term self is an instance of the class and is used to access variables that belong to the class.\n",
    "\n",
    "Q6. How does a Python class handle operator overloading?\n",
    "A.  The operator overloading can be explained by the following examples.\n",
    "    \n",
    "    Use of '+' operator for int() and str()\n",
    "    \n",
    "    #For addition of integers.\n",
    "    print(1 + 2)\n",
    "    output = 3\n",
    " \n",
    "    #For concatenation of two strings.\n",
    "    print(\"Python\"+\"Basic\")\n",
    "    Output = PythonBasic\n",
    "    \n",
    "Q7. When do you consider allowing operator overloading of your classes?\n",
    "A.  We allow operator overloading when we want the operator to perform an action other than its predefined action.\n",
    "    Eg: '+' operator can be used to add two integers or to join two stings.\n",
    "\n",
    "Q8. What is the most popular form of operator overloading?\n",
    "A.  The addition(+) operator is the most popular form of operator overloading.\n",
    "\n",
    "Q9. What are the two most important concepts to grasp in order to comprehend Python OOP code?\n",
    "A.  Inheritance and polymorphism are the two most important concepts to grasp in order to comprehend Python OOP code."
   ]
  }
 ],
 "metadata": {
  "kernelspec": {
   "display_name": "Python 3",
   "language": "python",
   "name": "python3"
  },
  "language_info": {
   "codemirror_mode": {
    "name": "ipython",
    "version": 3
   },
   "file_extension": ".py",
   "mimetype": "text/x-python",
   "name": "python",
   "nbconvert_exporter": "python",
   "pygments_lexer": "ipython3",
   "version": "3.8.8"
  }
 },
 "nbformat": 4,
 "nbformat_minor": 5
}
