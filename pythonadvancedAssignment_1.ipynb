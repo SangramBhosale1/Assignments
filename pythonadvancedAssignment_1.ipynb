{
 "cells": [
  {
   "cell_type": "code",
   "execution_count": null,
   "id": "d5426f13",
   "metadata": {},
   "outputs": [],
   "source": [
    "Q1. What is the purpose of Python's OOP?\n",
    "A. The purpose of Python's OOP is that it makes code more reusable and easier to work with larger programs.\n",
    "\n",
    "Q2.  Where does an inheritance search look for an attribute?\n",
    "A.  The inheritance search looks for an attribute from the bottom to top for the lowest occurrence of an attribute.\n",
    "\n",
    "Q3.  How do you distinguish between a class object and an instance object?\n",
    "A.  Class is a blue print while Object is an actual thing built based on the blue print.\n",
    "\n",
    "Q4. What makes the first argument in a class’s method function special?\n",
    "A.  The first argument of every class is always a reference to the current instance of the class.\n",
    "\n",
    "Q5. What is the purpose of the __init__ method?\n",
    "A.  The purpose of __init__ method is to initialize the object's attributes.\n",
    "\n",
    "Q6. What is the process for creating a class instance?\n",
    "A.  For creating a class instance, we call the class using class name and pass arguments which __init__ method accepts.\n",
    "    Eg:  class Employee:\n",
    "            empCount = 0\n",
    "            def __init__(self, name, salary):\n",
    "                self.name = name\n",
    "                self.salary = salary\n",
    "\n",
    "Q7. What is the process for creating a class?\n",
    "A.  To create a class we use keyword \"class\" followed by classname. Eg. class Car:\n",
    "    \n",
    "Q8. How would you define the superclasses of a class?\n",
    "A.  A class whose subclass has been made is called a superclass."
   ]
  }
 ],
 "metadata": {
  "kernelspec": {
   "display_name": "Python 3",
   "language": "python",
   "name": "python3"
  },
  "language_info": {
   "codemirror_mode": {
    "name": "ipython",
    "version": 3
   },
   "file_extension": ".py",
   "mimetype": "text/x-python",
   "name": "python",
   "nbconvert_exporter": "python",
   "pygments_lexer": "ipython3",
   "version": "3.8.8"
  }
 },
 "nbformat": 4,
 "nbformat_minor": 5
}
