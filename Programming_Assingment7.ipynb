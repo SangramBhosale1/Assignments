{
 "cells": [
  {
   "cell_type": "code",
   "execution_count": 1,
   "id": "d9657583",
   "metadata": {},
   "outputs": [
    {
     "name": "stdout",
     "output_type": "stream",
     "text": [
      "Enter the size of the array: 4\n",
      "Enter 4 elements to calculate sum of arrays: \n",
      "10\n",
      "20\n",
      "15\n",
      "5\n",
      "Sum of arrays: 50\n"
     ]
    }
   ],
   "source": [
    "##1. Write a Python Program to find sum of array?\n",
    "\n",
    "##Empty list.\n",
    "arr = []\n",
    "\n",
    "##User input for size of array, i.e. number of elements to input.\n",
    "s_arr = int(input(\"Enter the size of the array: \"))\n",
    "\n",
    "##User input for elements of array.\n",
    "print(\"Enter\", s_arr, \"elements to calculate sum of arrays: \")\n",
    "\n",
    "##Use of for loop for calculating sum of user given arrays.\n",
    "for n in range(s_arr):\n",
    "    numbers = int(input())\n",
    "    arr.append(numbers)\n",
    "print(\"Sum of arrays:\", sum(arr))"
   ]
  },
  {
   "cell_type": "code",
   "execution_count": 2,
   "id": "cfc90a4e",
   "metadata": {},
   "outputs": [
    {
     "name": "stdout",
     "output_type": "stream",
     "text": [
      "Enter the size of the array: 4\n",
      "Enter 4 elements of arrays: \n",
      "12\n",
      "56\n",
      "8\n",
      "35\n",
      "Largest element in given array is 56\n"
     ]
    }
   ],
   "source": [
    "## 2. Write a Python Program to find largest element in an array.\n",
    "\n",
    "##Defining a function to calculate largest element.\n",
    "def LargestElement(arr,large_arr):\n",
    "    large_ele = arr[0]\n",
    "    for i in range(1, large_arr):\n",
    "        if arr[i] > large_ele:\n",
    "            large_ele = arr[i]\n",
    "    return large_ele\n",
    "\n",
    "##User input for size of array, i.e. number of elements to input.\n",
    "large_arr = int(input(\"Enter the size of the array: \"))\n",
    "\n",
    "arr=[]\n",
    "\n",
    "##User input for elements of array.\n",
    "print(\"Enter\", large_arr, \"elements of arrays: \")\n",
    "for i in range(large_arr):\n",
    "    numbers = int(input())\n",
    "    arr.append(numbers)\n",
    "\n",
    "##Recalling the function created to calculate largest element in given array.\n",
    "large_ele = LargestElement(arr,large_arr)\n",
    "print (\"Largest element in given array is\",large_ele)"
   ]
  },
  {
   "cell_type": "code",
   "execution_count": 3,
   "id": "9aff4bbc",
   "metadata": {},
   "outputs": [
    {
     "name": "stdout",
     "output_type": "stream",
     "text": [
      "[5 6 1 2 3 4]\n"
     ]
    }
   ],
   "source": [
    "## 3. Write a Python Program for array rotation.\n",
    "\n",
    "##Importing numpy library.\n",
    "import numpy as np\n",
    "\n",
    "orig_array = np.array([1, 2, 3, 4, 5, 6])\n",
    "\n",
    "##Utilising the inbuilt function roll under numpy to rotate the array with 2 elements.\n",
    "rotate_array = np.roll(orig_array, 2)\n",
    "print(rotate_array)"
   ]
  },
  {
   "cell_type": "code",
   "execution_count": 4,
   "id": "ab291855",
   "metadata": {},
   "outputs": [
    {
     "name": "stdout",
     "output_type": "stream",
     "text": [
      "10 26 51 28 20 35 "
     ]
    }
   ],
   "source": [
    "##4. Write a Python Program to Split the array and add the first part to the end.\n",
    "\n",
    "##Defining a function to split the array.\n",
    "def array_split(arr, n, k):\n",
    "    for i in range(0, k):\n",
    "        x = arr[0]\n",
    "        for j in range(0, n-1):\n",
    "            arr[j] = arr[j + 1]\n",
    "            \n",
    "        arr[n-1] = x\n",
    "        \n",
    "arr = [20, 35, 10, 26, 51, 28]\n",
    "n = len(arr)\n",
    "position = 2 ##To indicate the number of elements to split.\n",
    "\n",
    "##Utilising the function created.\n",
    "array_split(arr, n, position)\n",
    "for i in range(0, n):\n",
    "    print(arr[i], end = ' ')"
   ]
  },
  {
   "cell_type": "code",
   "execution_count": 5,
   "id": "5e8979cb",
   "metadata": {},
   "outputs": [
    {
     "name": "stdout",
     "output_type": "stream",
     "text": [
      "True\n",
      "False\n",
      "True\n"
     ]
    }
   ],
   "source": [
    "## 5. Write a Python Program to check if given array is Monotonic.\n",
    "\n",
    "def ismonotone(a):\n",
    "    n=len(a) #To calculate size of array.\n",
    "    if n==1:\n",
    "        return True\n",
    "    else:\n",
    "        #Condition to check for monotone or not.\n",
    "        if all(a[i]>=a[i+1] for i in range(0,n-1) or a[i]<=a[i+1] for i in range(0,n-1)):\n",
    "            return True\n",
    "        else:\n",
    "            return False\n",
    "\n",
    "p = [6, 5, 4, 2]\n",
    "print(ismonotone(p))\n",
    "q = [6, 2, 4, 2]\n",
    "print(ismonotone(q))\n",
    "r=[4,3,2]\n",
    "print(ismonotone(r))"
   ]
  },
  {
   "cell_type": "code",
   "execution_count": null,
   "id": "3d043583",
   "metadata": {},
   "outputs": [],
   "source": []
  }
 ],
 "metadata": {
  "kernelspec": {
   "display_name": "Python 3",
   "language": "python",
   "name": "python3"
  },
  "language_info": {
   "codemirror_mode": {
    "name": "ipython",
    "version": 3
   },
   "file_extension": ".py",
   "mimetype": "text/x-python",
   "name": "python",
   "nbconvert_exporter": "python",
   "pygments_lexer": "ipython3",
   "version": "3.8.8"
  }
 },
 "nbformat": 4,
 "nbformat_minor": 5
}
