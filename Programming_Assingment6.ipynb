{
 "cells": [
  {
   "cell_type": "code",
   "execution_count": 1,
   "id": "d0ff0026",
   "metadata": {},
   "outputs": [
    {
     "name": "stdout",
     "output_type": "stream",
     "text": [
      "Please enter a number: 10\n",
      "Fibonacci sequence:\n",
      "0\n",
      "1\n",
      "1\n",
      "2\n",
      "3\n",
      "5\n",
      "8\n",
      "13\n",
      "21\n",
      "34\n"
     ]
    }
   ],
   "source": [
    "##1.Write a Python Program to Display Fibonacci Sequence Using Recursion.\n",
    "\n",
    "##Defining a function for Fibonacci sequence\n",
    "def recur_fibo(n):\n",
    "    if n <= 1:\n",
    "        return n\n",
    "    else:\n",
    "        return(recur_fibo(n-1) + recur_fibo(n-2))\n",
    "\n",
    "##User input for a value\n",
    "nterms = int(input('Please enter a number: '))\n",
    "\n",
    "##Check for positive value entered\n",
    "if nterms <= 0:\n",
    "    print(\"Please enter a positive integer\")\n",
    "else:\n",
    "    print(\"Fibonacci sequence:\")\n",
    "    for i in range(nterms):\n",
    "        print(recur_fibo(i))"
   ]
  },
  {
   "cell_type": "code",
   "execution_count": 2,
   "id": "352a0b5e",
   "metadata": {},
   "outputs": [
    {
     "name": "stdout",
     "output_type": "stream",
     "text": [
      "Please enter a number : 7\n",
      "The factorial of 7 is 5040\n"
     ]
    }
   ],
   "source": [
    "##2. Write a Python Program to Find Factorial of Number Using Recursion?\n",
    "\n",
    "####Defining a function to find factorial of a number\n",
    "def recursive_factorial(n):\n",
    "    if n == 1:\n",
    "        return n\n",
    "    else:\n",
    "        return n*recursive_factorial(n-1) \n",
    "\n",
    "##User input\n",
    "number = int(input(\"Please enter a number : \"))\n",
    "\n",
    "## If the user input is a negative number\n",
    "if number < 0:\n",
    "    print(\"Please enter a positive number\")\n",
    "else:\n",
    "    print(\"The factorial of\", number, \"is\", recursive_factorial(number))"
   ]
  },
  {
   "cell_type": "code",
   "execution_count": 5,
   "id": "a671423b",
   "metadata": {},
   "outputs": [
    {
     "name": "stdout",
     "output_type": "stream",
     "text": [
      "Please enter weight in kilogram(kg): 56\n",
      "Please enter height in metres(m): 2\n",
      "Your BMI is :  14.0\n",
      "You are Underweight\n"
     ]
    }
   ],
   "source": [
    "##3. Write a Python Program to calculate your Body Mass Index?\n",
    "\n",
    "##User input for weight and height values\n",
    "w=float(input('Please enter weight in kilogram(kg): '))\n",
    "h=float(input('Please enter height in metres(m): '))\n",
    "\n",
    "##formula to calculate BMI - weight/(height)^2\n",
    "bmi=w/(h*h)\n",
    "       \n",
    "print('Your BMI is : ', bmi)\n",
    "\n",
    "##If condition to display in which category BMI falls\n",
    "if bmi < 18.5:\n",
    "    print('You are Underweight')\n",
    "elif bmi >=18.5 and bmi <=24.9:\n",
    "    print('You have a Healthy Weight')\n",
    "elif bmi >=25 and bmi <=29.9:\n",
    "    print('You are Overweight')\n",
    "else:\n",
    "    print('Your are Obese')"
   ]
  },
  {
   "cell_type": "code",
   "execution_count": 10,
   "id": "8fa950d9",
   "metadata": {},
   "outputs": [
    {
     "name": "stdout",
     "output_type": "stream",
     "text": [
      "Enter a number to find its Log value: 10\n",
      "The Log Value of 10.0 is: 2.302585092994046\n"
     ]
    }
   ],
   "source": [
    "## 4.  Write a Python Program to calculate the natural logarithm of any number.\n",
    "\n",
    "##Importing the numpy library in python\n",
    "import numpy\n",
    "\n",
    "##User input to enter a number to find its log value\n",
    "n=float(input('Enter a number to find its Log value: '))\n",
    "log = numpy.log(n)\n",
    "print('The Log Value of', n, 'is:', log)"
   ]
  },
  {
   "cell_type": "code",
   "execution_count": 1,
   "id": "946a57ce",
   "metadata": {},
   "outputs": [
    {
     "name": "stdout",
     "output_type": "stream",
     "text": [
      "Please Enter any Number: 9\n",
      "2025\n"
     ]
    }
   ],
   "source": [
    "##5.  Write a Python Program for cube sum of first n natural numbers.\n",
    "\n",
    "##Defining a function to calcuate the sum of cube of natural number.\n",
    "def cubesum(n):\n",
    "    sum = 0\n",
    "    for i in range(1, n+1):\n",
    "        sum +=i*i*i\n",
    "    return sum\n",
    "\n",
    "##Accepting user input for a natural number,\n",
    "n = int(input(\"Please Enter any Number: \"))\n",
    "\n",
    "##Recalling the function created above.\n",
    "print(cubesum(n))"
   ]
  },
  {
   "cell_type": "code",
   "execution_count": null,
   "id": "dde4e95e",
   "metadata": {},
   "outputs": [],
   "source": []
  }
 ],
 "metadata": {
  "kernelspec": {
   "display_name": "Python 3",
   "language": "python",
   "name": "python3"
  },
  "language_info": {
   "codemirror_mode": {
    "name": "ipython",
    "version": 3
   },
   "file_extension": ".py",
   "mimetype": "text/x-python",
   "name": "python",
   "nbconvert_exporter": "python",
   "pygments_lexer": "ipython3",
   "version": "3.8.8"
  }
 },
 "nbformat": 4,
 "nbformat_minor": 5
}
