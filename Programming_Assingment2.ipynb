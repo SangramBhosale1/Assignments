{
 "cells": [
  {
   "cell_type": "code",
   "execution_count": 5,
   "id": "0a7fbb25",
   "metadata": {},
   "outputs": [
    {
     "name": "stdout",
     "output_type": "stream",
     "text": [
      "Please enter kilometers: 10\n",
      "Conversion of 10 km to miles is:  6.2 miles\n"
     ]
    }
   ],
   "source": [
    "##1.\tWrite a Python program to convert kilometers to miles?\n",
    "\n",
    "a=int(input('Please enter kilometers: '))\n",
    "\n",
    "##1 km = 0.62 miles, hence multiplied user input 'a' with 0.62 to convert to miles.\n",
    "print('Conversion of', a, 'km to miles is: ', a*0.62, 'miles')"
   ]
  },
  {
   "cell_type": "code",
   "execution_count": 6,
   "id": "5482d022",
   "metadata": {},
   "outputs": [
    {
     "name": "stdout",
     "output_type": "stream",
     "text": [
      "Please enter Celsius: 35\n",
      "Conversion of 35 Celsius to Fahrenheit is:  95.0 Fahrenheit\n"
     ]
    }
   ],
   "source": [
    "##2.\tWrite a Python program to convert Celsius to Fahrenheit?\n",
    "\n",
    "c=int(input('Please enter Celsius: '))\n",
    "\n",
    "##Used formula *1.8+32 to convert Celsius to Fahrenheit.\n",
    "print('Conversion of', c, 'Celsius to Fahrenheit is: ', c*1.8+32, 'Fahrenheit')"
   ]
  },
  {
   "cell_type": "code",
   "execution_count": 7,
   "id": "de7be430",
   "metadata": {},
   "outputs": [
    {
     "name": "stdout",
     "output_type": "stream",
     "text": [
      "Please enter year:2022\n",
      "Please enter month:1\n",
      "    January 2022\n",
      "Mo Tu We Th Fr Sa Su\n",
      "                1  2\n",
      " 3  4  5  6  7  8  9\n",
      "10 11 12 13 14 15 16\n",
      "17 18 19 20 21 22 23\n",
      "24 25 26 27 28 29 30\n",
      "31\n",
      "\n"
     ]
    }
   ],
   "source": [
    "##3.\tWrite a Python program to display calendar?\n",
    "\n",
    "# imported the module calendar\n",
    "import calendar\n",
    "\n",
    "##User input for year and month.\n",
    "y = int(input('Please enter year:'))\n",
    "m = int(input('Please enter month:'))\n",
    "\n",
    "# display the calendar for given year and month.\n",
    "print(calendar.month(y, m))"
   ]
  },
  {
   "cell_type": "code",
   "execution_count": 9,
   "id": "e5f6123a",
   "metadata": {},
   "outputs": [
    {
     "name": "stdout",
     "output_type": "stream",
     "text": [
      "Quadratic Equation formula is: ax**2+bx+c=0\n",
      "Enter value for a (a!=0): 2\n",
      "Enter value for b: -4\n",
      "Enter value for c: 1\n",
      "The two solutions for the given Quadratic Equation - 2 x**2 + -4 x + 1 =0 are :\n",
      "(0.2928932188134524+0j) and (1.7071067811865475+0j)\n",
      "The Roots are Real and Unequal\n"
     ]
    }
   ],
   "source": [
    "##4.\tWrite a Python program to solve quadratic equation?\n",
    "\n",
    "##Imported the complex math module.\n",
    "import cmath\n",
    "print(\"Quadratic Equation formula is: ax**2+bx+c=0\")\n",
    "\n",
    "##User input for Quadratic Equation values.\n",
    "a=int(input('Enter value for a (a!=0): '))\n",
    "b=int(input('Enter value for b: '))\n",
    "c=int(input('Enter value for c: '))\n",
    "\n",
    "##Formula for discriminant.\n",
    "d=(b**2)-(4*a*c)\n",
    "\n",
    "##Every Quadratic Equation has two solutions(+ or - in front of square root value).\n",
    "solu1=(-b-cmath.sqrt(d))/(2*a)\n",
    "solu2=(-b+cmath.sqrt(d))/(2*a)\n",
    "\n",
    "print('The two solutions for the given Quadratic Equation -',a,'x**2','+',b,'x','+',c,'=0','are :')\n",
    "print(solu1, 'and', solu2)\n",
    "\n",
    "##Discriminant value to indicate different type of roots based on state.\n",
    "if d>0:\n",
    "    print('The Roots are Real and Unequal')\n",
    "elif d==0:\n",
    "    print('The Roots are Real and Equal')\n",
    "else:\n",
    "    print('The Roots are Complex')"
   ]
  },
  {
   "cell_type": "code",
   "execution_count": 12,
   "id": "c81bdbfd",
   "metadata": {},
   "outputs": [
    {
     "name": "stdout",
     "output_type": "stream",
     "text": [
      "Enter value of x: 4\n",
      "Enter value of y: 7\n",
      "The value of x after swapping is:  7\n",
      "The value of y after swapping is:  4\n"
     ]
    }
   ],
   "source": [
    "##5.\tWrite a Python program to swap two variables without temp variable?\n",
    "\n",
    "x = int(input('Enter value of x: '))\n",
    "y = int(input('Enter value of y: '))\n",
    "\n",
    "##Swapping the variables.\n",
    "x, y = y, x\n",
    "\n",
    "##For output after swapping.\n",
    "print(\"The value of x after swapping is: \", x)\n",
    "print(\"The value of y after swapping is: \", y)"
   ]
  },
  {
   "cell_type": "code",
   "execution_count": null,
   "id": "9abb1522",
   "metadata": {},
   "outputs": [],
   "source": []
  }
 ],
 "metadata": {
  "kernelspec": {
   "display_name": "Python 3",
   "language": "python",
   "name": "python3"
  },
  "language_info": {
   "codemirror_mode": {
    "name": "ipython",
    "version": 3
   },
   "file_extension": ".py",
   "mimetype": "text/x-python",
   "name": "python",
   "nbconvert_exporter": "python",
   "pygments_lexer": "ipython3",
   "version": "3.8.8"
  }
 },
 "nbformat": 4,
 "nbformat_minor": 5
}
