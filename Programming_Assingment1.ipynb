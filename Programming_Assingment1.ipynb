{
 "cells": [
  {
   "cell_type": "code",
   "execution_count": 1,
   "id": "3bbb25a3",
   "metadata": {},
   "outputs": [
    {
     "name": "stdout",
     "output_type": "stream",
     "text": [
      "Hello Python\n"
     ]
    }
   ],
   "source": [
    "##1.Write a Python program to print \"Hello Python\"?\n",
    "\n",
    "print ('Hello Python')"
   ]
  },
  {
   "cell_type": "code",
   "execution_count": 7,
   "id": "a2e4f5ec",
   "metadata": {},
   "outputs": [
    {
     "name": "stdout",
     "output_type": "stream",
     "text": [
      "Enter the first value:\n",
      "16\n",
      "Enter the second value:\n",
      "8\n",
      "Entered values are 16  and  8\n",
      "Addition of  16 and 8 is 24\n",
      "Division of  16 and 8 is 2.0\n"
     ]
    }
   ],
   "source": [
    "##2. Write a Python program to do arithmetical operations addition and division.?\n",
    "\n",
    "print('Enter the first value:')\n",
    "##User input for first value.\n",
    "a=int(input())\n",
    "\n",
    "print('Enter the second value:')\n",
    "##User input for second value.\n",
    "b=int(input())\n",
    "\n",
    "print('Entered values are',a,' and ', b)\n",
    "print('Addition of ', a, 'and', b, 'is', a+b)\n",
    "print('Division of ', a, 'and', b, 'is', a/b)"
   ]
  },
  {
   "cell_type": "code",
   "execution_count": 8,
   "id": "366f6f08",
   "metadata": {},
   "outputs": [
    {
     "name": "stdout",
     "output_type": "stream",
     "text": [
      "Enter height of the triangle: \n",
      "12\n",
      "Enter base of the triangle: \n",
      "8\n",
      "The area of triangle is  48.0\n"
     ]
    }
   ],
   "source": [
    "##3. Write a Python program to find the area of a triangle?\n",
    "\n",
    "print('Enter height of the triangle: ')\n",
    "##User input to enter height of the triangle\n",
    "h=int(input())\n",
    "\n",
    "print('Enter base of the triangle: ')\n",
    "##User input to enter base of the triangle\n",
    "b=int(input())\n",
    "\n",
    "print('The area of triangle is ', (h*b)/2)"
   ]
  },
  {
   "cell_type": "code",
   "execution_count": 9,
   "id": "75e568cb",
   "metadata": {},
   "outputs": [
    {
     "name": "stdout",
     "output_type": "stream",
     "text": [
      "Enter value of x: 24\n",
      "Enter value of y: 16\n",
      "The value of x after swapping:  16\n",
      "The value of y after swapping:  24\n"
     ]
    }
   ],
   "source": [
    "##4. Write a Python program to swap two variables?\n",
    "\n",
    "x = int(input('Enter value of x: '))\n",
    "y = int(input('Enter value of y: '))\n",
    "\n",
    "x,y = y, x\n",
    "\n",
    "print('The value of x after swapping: ', x)\n",
    "print('The value of y after swapping: ', y)"
   ]
  },
  {
   "cell_type": "code",
   "execution_count": 10,
   "id": "afc5f979",
   "metadata": {},
   "outputs": [
    {
     "name": "stdout",
     "output_type": "stream",
     "text": [
      "Random number generated is:  3\n"
     ]
    }
   ],
   "source": [
    "##5. Write a Python program to generate a random number?\n",
    "\n",
    "import random\n",
    "##Imported the random module.\n",
    "\n",
    "print('Random number generated is: ', random.randint(0,9))\n",
    "##randint() function generates a random number."
   ]
  },
  {
   "cell_type": "code",
   "execution_count": null,
   "id": "7938f4d7",
   "metadata": {},
   "outputs": [],
   "source": []
  }
 ],
 "metadata": {
  "kernelspec": {
   "display_name": "Python 3",
   "language": "python",
   "name": "python3"
  },
  "language_info": {
   "codemirror_mode": {
    "name": "ipython",
    "version": 3
   },
   "file_extension": ".py",
   "mimetype": "text/x-python",
   "name": "python",
   "nbconvert_exporter": "python",
   "pygments_lexer": "ipython3",
   "version": "3.8.8"
  }
 },
 "nbformat": 4,
 "nbformat_minor": 5
}
