{
 "cells": [
  {
   "cell_type": "code",
   "execution_count": 1,
   "id": "7e520b7f",
   "metadata": {},
   "outputs": [
    {
     "name": "stdout",
     "output_type": "stream",
     "text": [
      "Enter a number: 5\n",
      "The Factorial of 5 is 120\n"
     ]
    }
   ],
   "source": [
    "##1.  Write a Python Program to Find the Factorial of a Number?\n",
    "\n",
    "fnum=int(input('Enter a number: ')) ##User input.\n",
    "\n",
    "fact=1\n",
    "\n",
    "##Use of if and else condition.\n",
    "if fnum>=1:\n",
    "    for i in range(1,fnum+1):\n",
    "        fact=fact*i\n",
    "    print('The Factorial of', fnum, 'is', fact)\n",
    "elif fnum==0:\n",
    "    print('The Factorial of 0 is 1.')\n",
    "else:\n",
    "    print ('Factorial for negative number does not exist.')    "
   ]
  },
  {
   "cell_type": "code",
   "execution_count": 2,
   "id": "0f434281",
   "metadata": {},
   "outputs": [
    {
     "name": "stdout",
     "output_type": "stream",
     "text": [
      "Please enter a number: 7\n",
      "7 x 1 = 7\n",
      "7 x 2 = 14\n",
      "7 x 3 = 21\n",
      "7 x 4 = 28\n",
      "7 x 5 = 35\n",
      "7 x 6 = 42\n",
      "7 x 7 = 49\n",
      "7 x 8 = 56\n",
      "7 x 9 = 63\n",
      "7 x 10 = 70\n"
     ]
    }
   ],
   "source": [
    "##2.  Write a Python Program to Display the multiplication Table?\n",
    "\n",
    "tnum=int(input('Please enter a number: ')) ##User input.\n",
    "\n",
    "for i in range (1, 11):\n",
    "    print(tnum, 'x', i, '=', tnum*i)"
   ]
  },
  {
   "cell_type": "code",
   "execution_count": 3,
   "id": "430bd5b2",
   "metadata": {},
   "outputs": [
    {
     "name": "stdout",
     "output_type": "stream",
     "text": [
      "Enter a number for Fibonacci sequence: 7\n",
      "Fibonacci sequence till 7 is:\n",
      "0\n",
      "1\n",
      "1\n",
      "2\n",
      "3\n",
      "5\n",
      "8\n"
     ]
    }
   ],
   "source": [
    "## 3.  Write a Python Program to Print the Fibonacci sequence?\n",
    "\n",
    "fnum=int(input(\"Enter a number for Fibonacci sequence: \")) ##User input.\n",
    "\n",
    "a, b = 0, 1\n",
    "count = 0\n",
    "\n",
    "##Condition that the number must be positive or greater than 0.\n",
    "if fnum<=0:\n",
    "    print(\"Please enter a positive/greater than 0 number\")\n",
    "\n",
    "##Fibonacci sequence for number 1.\n",
    "elif fnum==1:\n",
    "    print(\"Fibonacci sequence till\",fnum,\":\", a)\n",
    "    \n",
    "##Loop to print Fibonacci sequence upto the user given number.\n",
    "else:\n",
    "    print(\"Fibonacci sequence till\", fnum, 'is:')\n",
    "    while count<fnum:\n",
    "        print(a)\n",
    "        c=a+b\n",
    "        a=b\n",
    "        b=c\n",
    "        count+=1"
   ]
  },
  {
   "cell_type": "code",
   "execution_count": 9,
   "id": "ff3e3bac",
   "metadata": {},
   "outputs": [
    {
     "name": "stdout",
     "output_type": "stream",
     "text": [
      "Enter a number: 153\n",
      "153 is an Armstrong number\n"
     ]
    }
   ],
   "source": [
    "## 4. Write a Python Program to Check Armstrong Number?\n",
    "\n",
    "n = int(input(\"Enter a number: \"))  ##User input\n",
    "\n",
    "a = 0\n",
    "b = n\n",
    "\n",
    "while b>0:\n",
    "    anum = b%10    ##To get each digit of a number % operator is used and remainder is divided by 10 which gives last digit of number.\n",
    "    a += anum**3   ##Calculating cube of a number\n",
    "    b //= 10       ##Using floor division to get the nearest round number.\n",
    "    \n",
    "if n == a:\n",
    "    print(n,\"is an Armstrong number\")\n",
    "else:\n",
    "    print(n,\"is not an Armstrong number\")\n"
   ]
  },
  {
   "cell_type": "code",
   "execution_count": 2,
   "id": "a0a38c3b",
   "metadata": {},
   "outputs": [
    {
     "name": "stdout",
     "output_type": "stream",
     "text": [
      "Enter start number: 100\n",
      "Enter end number: 500\n",
      "In the given range 100 - 500 Armstrong Numbers are:\n",
      "153\n",
      "370\n",
      "371\n",
      "407\n"
     ]
    }
   ],
   "source": [
    "##5.  Write a Python Program to Find Armstrong Number in an Interval?\n",
    "\n",
    "##User input for start and end value.\n",
    "n1 = int(input(\"Enter start number: \"))\n",
    "n2 = int(input(\"Enter end number: \"))\n",
    "\n",
    "print('In the given range', n1, '-', n2, 'Armstrong Numbers are:')\n",
    "\n",
    "for num in range(n1, n2+1):\n",
    "    sum = 0\n",
    "    temp = num\n",
    "    \n",
    "    while temp > 0:\n",
    "        digit = temp % 10   ##To get each digit of a number % operator is used and remainder is divided by 10 which gives last digit of number.\n",
    "        sum += digit ** 3   ##Calculating cube of a number\n",
    "        temp //= 10         ##Using floor division to get the nearest round number.\n",
    "        \n",
    "    if num == sum: ##Condition for cube values of digits equal to the given number.\n",
    "        print (num)"
   ]
  },
  {
   "cell_type": "code",
   "execution_count": 4,
   "id": "dd9ab1d8",
   "metadata": {},
   "outputs": [
    {
     "name": "stdout",
     "output_type": "stream",
     "text": [
      "The formula for sum of Natural numbers: n(n+1)/2\n",
      "Enter the value of 'n': 7\n",
      "The sum of first 7 Natural numbers is:  28\n"
     ]
    }
   ],
   "source": [
    "##6.  Write a Python Program to Find the Sum of Natural Numbers?\n",
    "\n",
    "\n",
    "print ('The formula for sum of Natural numbers: n(n+1)/2')  ## n=(n+1)/2-formula for sum of natural numbers\n",
    "n = int(input(\"Enter the value of 'n': \"))        ##User input.\n",
    "a=n                                             ##User input stored in variable a.\n",
    "sum = 0\n",
    "\n",
    "if n <= 0:                                      ##Condition for if number entered less than 0.\n",
    "    print(\"Enter a positive number\") \n",
    "else: \n",
    "    while n > 0:                                ##While loop to calculate the sum of numbers given by user.\n",
    "        sum += n\n",
    "        n -= 1\n",
    "print('The sum of first',a, 'Natural numbers is: ',sum)"
   ]
  },
  {
   "cell_type": "code",
   "execution_count": null,
   "id": "6106fad3",
   "metadata": {},
   "outputs": [],
   "source": []
  }
 ],
 "metadata": {
  "kernelspec": {
   "display_name": "Python 3",
   "language": "python",
   "name": "python3"
  },
  "language_info": {
   "codemirror_mode": {
    "name": "ipython",
    "version": 3
   },
   "file_extension": ".py",
   "mimetype": "text/x-python",
   "name": "python",
   "nbconvert_exporter": "python",
   "pygments_lexer": "ipython3",
   "version": "3.8.8"
  }
 },
 "nbformat": 4,
 "nbformat_minor": 5
}
